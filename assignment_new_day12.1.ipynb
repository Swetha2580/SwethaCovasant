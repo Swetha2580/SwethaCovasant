{
 "cells": [
  {
   "cell_type": "markdown",
   "id": "b6568b3f-c4de-4b81-8428-a48a5912f2a4",
   "metadata": {},
   "source": [
    "HandsOn - Predict The Data Scientists Salary In India from kaggle use sklearn dataset: Predict-The-Data-Scientists-Salary-In-India_Train_Dataset.csv Data Features: Name of the company (Encoded) Years of experience(split to min and max experience) Job description Job designation Job Type Key skills Location (needs LabelEncoded) Salary in Rupees Lakhs(To be predicted)(needs LabelEncoded)\n",
    "Find the best estimator among below clf1 = DecisionTreeClassifier() clf2 = RandomForestClassifier(n_estimators=100) clf3 = ExtraTreesClassifier(n_estimators=100) clf4 = AdaBoostClassifier(n_estimators=100) clf5 = GradientBoostingClassifier(n_estimators=100)"
   ]
  },
  {
   "cell_type": "code",
   "execution_count": 1,
   "id": "c5375f3d-1d04-48c9-b11a-94ab6f8a0c57",
   "metadata": {},
   "outputs": [],
   "source": [
    "import pandas as pd \n",
    "import numpy as np\n",
    "import matplotlib.pyplot as plt"
   ]
  },
  {
   "cell_type": "code",
   "execution_count": 2,
   "id": "555d9f1d-76f6-40fd-b3a9-e916ca8d7d36",
   "metadata": {},
   "outputs": [],
   "source": [
    "from sklearn.pipeline import * \n",
    "from sklearn.naive_bayes import * \n",
    "from sklearn.cluster import *  \n",
    "from sklearn.covariance import *  \n",
    "from sklearn.cross_decomposition import *  \n",
    "from sklearn.datasets import *  \n",
    "from sklearn.decomposition import *  \n",
    "from sklearn.ensemble import *  \n",
    "from sklearn.feature_extraction import *  \n",
    "from sklearn.feature_extraction.text import *  \n",
    "from sklearn.feature_selection import *  \n",
    "from sklearn.gaussian_process import *  \n",
    "from sklearn.linear_model import *  \n",
    "from sklearn.manifold import *  \n",
    "from sklearn.metrics import *  \n",
    "from sklearn.mixture import *  \n",
    "from sklearn.model_selection import *  \n",
    "from sklearn.neighbors import *  \n",
    "from sklearn.neural_network import *  \n",
    "from sklearn.preprocessing import *  \n",
    "from sklearn_pandas import DataFrameMapper\n",
    "from sklearn.svm import *  \n",
    "from sklearn.tree import *  \n",
    "from sklearn.model_selection import train_test_split\n",
    "from sklearn.preprocessing import StandardScaler"
   ]
  },
  {
   "cell_type": "code",
   "execution_count": 3,
   "id": "61f9a68d-8c90-4fe2-9172-0e5446d00bdb",
   "metadata": {},
   "outputs": [],
   "source": [
    "\n",
    "import keras_tuner\n",
    "import keras\n",
    "from keras.models import Sequential, load_model\n",
    "from keras.layers import Dense, Input\n",
    "from keras.wrappers import SKLearnClassifier\n",
    "import keras.utils \n",
    "from keras.callbacks import * "
   ]
  },
  {
   "cell_type": "code",
   "execution_count": 5,
   "id": "cf4fc704-f0e6-4d29-860d-b4d281fef6dd",
   "metadata": {},
   "outputs": [],
   "source": [
    "#loading datsset\n",
    "scientist_sal = pd.read_csv('code\\data\\Predict-The-Data-Scientists-Salary-In-India_Train_Dataset.csv')"
   ]
  },
  {
   "cell_type": "code",
   "execution_count": 6,
   "id": "e9a4a63c-6e4e-4336-83cf-0a891262ccc8",
   "metadata": {},
   "outputs": [
    {
     "data": {
      "text/html": [
       "<div>\n",
       "<style scoped>\n",
       "    .dataframe tbody tr th:only-of-type {\n",
       "        vertical-align: middle;\n",
       "    }\n",
       "\n",
       "    .dataframe tbody tr th {\n",
       "        vertical-align: top;\n",
       "    }\n",
       "\n",
       "    .dataframe thead th {\n",
       "        text-align: right;\n",
       "    }\n",
       "</style>\n",
       "<table border=\"1\" class=\"dataframe\">\n",
       "  <thead>\n",
       "    <tr style=\"text-align: right;\">\n",
       "      <th></th>\n",
       "      <th>Unnamed: 0</th>\n",
       "      <th>experience</th>\n",
       "      <th>job_description</th>\n",
       "      <th>job_desig</th>\n",
       "      <th>job_type</th>\n",
       "      <th>key_skills</th>\n",
       "      <th>location</th>\n",
       "      <th>salary</th>\n",
       "      <th>company_name_encoded</th>\n",
       "    </tr>\n",
       "  </thead>\n",
       "  <tbody>\n",
       "    <tr>\n",
       "      <th>0</th>\n",
       "      <td>0</td>\n",
       "      <td>5-7 yrs</td>\n",
       "      <td>Exp: Minimum 5 years;Good understanding of IOC...</td>\n",
       "      <td>Senior Exploit and Vulnerability Researcher</td>\n",
       "      <td>NaN</td>\n",
       "      <td>team skills, communication skills, analytical ...</td>\n",
       "      <td>Delhi NCR(Vikas Puri)</td>\n",
       "      <td>6to10</td>\n",
       "      <td>3687</td>\n",
       "    </tr>\n",
       "    <tr>\n",
       "      <th>1</th>\n",
       "      <td>1</td>\n",
       "      <td>10-17 yrs</td>\n",
       "      <td>He should have handled a team of atleast 5-6 d...</td>\n",
       "      <td>Head SCM</td>\n",
       "      <td>NaN</td>\n",
       "      <td>ppc, logistics, inventory management, supply c...</td>\n",
       "      <td>Sonepat</td>\n",
       "      <td>10to15</td>\n",
       "      <td>458</td>\n",
       "    </tr>\n",
       "    <tr>\n",
       "      <th>2</th>\n",
       "      <td>2</td>\n",
       "      <td>5-9 yrs</td>\n",
       "      <td>Must be an effective communicator (written &amp; s...</td>\n",
       "      <td>Deputy Manager - Talent Management &amp; Leadershi...</td>\n",
       "      <td>Analytics</td>\n",
       "      <td>HR Analytics, Employee Engagement, Training, S...</td>\n",
       "      <td>Delhi NCR</td>\n",
       "      <td>15to25</td>\n",
       "      <td>4195</td>\n",
       "    </tr>\n",
       "    <tr>\n",
       "      <th>3</th>\n",
       "      <td>3</td>\n",
       "      <td>7-10 yrs</td>\n",
       "      <td>7  -  10 years of overall experience in data e...</td>\n",
       "      <td>Associate Manager Data Engineering</td>\n",
       "      <td>Analytics</td>\n",
       "      <td>SQL, Javascript, Automation, Python, Ruby, Ana...</td>\n",
       "      <td>Bengaluru</td>\n",
       "      <td>10to15</td>\n",
       "      <td>313</td>\n",
       "    </tr>\n",
       "    <tr>\n",
       "      <th>4</th>\n",
       "      <td>4</td>\n",
       "      <td>1-3 yrs</td>\n",
       "      <td>Chartered Accountancy degree or MBA in Finance...</td>\n",
       "      <td>TS- GSA- Senior Analyst</td>\n",
       "      <td>NaN</td>\n",
       "      <td>accounting, finance, cash flow, financial plan...</td>\n",
       "      <td>Gurgaon</td>\n",
       "      <td>3to6</td>\n",
       "      <td>1305</td>\n",
       "    </tr>\n",
       "  </tbody>\n",
       "</table>\n",
       "</div>"
      ],
      "text/plain": [
       "   Unnamed: 0 experience                                    job_description  \\\n",
       "0           0    5-7 yrs  Exp: Minimum 5 years;Good understanding of IOC...   \n",
       "1           1  10-17 yrs  He should have handled a team of atleast 5-6 d...   \n",
       "2           2    5-9 yrs  Must be an effective communicator (written & s...   \n",
       "3           3   7-10 yrs  7  -  10 years of overall experience in data e...   \n",
       "4           4    1-3 yrs  Chartered Accountancy degree or MBA in Finance...   \n",
       "\n",
       "                                           job_desig   job_type  \\\n",
       "0        Senior Exploit and Vulnerability Researcher        NaN   \n",
       "1                                           Head SCM        NaN   \n",
       "2  Deputy Manager - Talent Management & Leadershi...  Analytics   \n",
       "3                 Associate Manager Data Engineering  Analytics   \n",
       "4                            TS- GSA- Senior Analyst        NaN   \n",
       "\n",
       "                                          key_skills               location  \\\n",
       "0  team skills, communication skills, analytical ...  Delhi NCR(Vikas Puri)   \n",
       "1  ppc, logistics, inventory management, supply c...                Sonepat   \n",
       "2  HR Analytics, Employee Engagement, Training, S...              Delhi NCR   \n",
       "3  SQL, Javascript, Automation, Python, Ruby, Ana...              Bengaluru   \n",
       "4  accounting, finance, cash flow, financial plan...                Gurgaon   \n",
       "\n",
       "   salary  company_name_encoded  \n",
       "0   6to10                  3687  \n",
       "1  10to15                   458  \n",
       "2  15to25                  4195  \n",
       "3  10to15                   313  \n",
       "4    3to6                  1305  "
      ]
     },
     "execution_count": 6,
     "metadata": {},
     "output_type": "execute_result"
    }
   ],
   "source": [
    "\n",
    "scientist_sal.head()"
   ]
  },
  {
   "cell_type": "code",
   "execution_count": 7,
   "id": "46fd77e8-e686-42e9-92fb-84830a614114",
   "metadata": {},
   "outputs": [
    {
     "data": {
      "text/plain": [
       "Index(['Unnamed: 0', 'experience', 'job_description', 'job_desig', 'job_type',\n",
       "       'key_skills', 'location', 'salary', 'company_name_encoded'],\n",
       "      dtype='object')"
      ]
     },
     "execution_count": 7,
     "metadata": {},
     "output_type": "execute_result"
    }
   ],
   "source": [
    "\n",
    "scientist_sal.columns"
   ]
  },
  {
   "cell_type": "code",
   "execution_count": 8,
   "id": "4e12b823-c31b-4a01-9671-5877ee09697a",
   "metadata": {},
   "outputs": [],
   "source": [
    "# splitting experience into min_experience and max_experience and converting it to numeric\n",
    "scientist_sal[['min_experience', 'max_experience']] = scientist_sal['experience'].str.split('-', expand=True)\n",
    "scientist_sal['min_experience'] = scientist_sal['min_experience'].str.extract('(\\d+)').astype(float)\n",
    "scientist_sal['max_experience'] = scientist_sal['max_experience'].str.extract('(\\d+)').astype(float)"
   ]
  },
  {
   "cell_type": "code",
   "execution_count": 9,
   "id": "6a084662-40a4-438f-93f6-67c908e2a7fb",
   "metadata": {},
   "outputs": [],
   "source": [
    "scientist_sal.drop('experience', axis=1, inplace=True)"
   ]
  },
  {
   "cell_type": "code",
   "execution_count": 10,
   "id": "65ba0fec-00a0-49ab-b207-6f0232370d20",
   "metadata": {},
   "outputs": [],
   "source": [
    "\n",
    "# Label encoding\n",
    "columns = ['job_description', 'job_desig', 'job_type', 'key_skills', 'location', 'salary']\n",
    "label_encoders = {}\n",
    "for col in columns:\n",
    "    le = LabelEncoder()\n",
    "    scientist_sal[col] = le.fit_transform(scientist_sal[col].astype(str))\n",
    "    label_encoders[col] = le"
   ]
  },
  {
   "cell_type": "code",
   "execution_count": 11,
   "id": "916f7055-d0f5-4829-8011-cba619c48c6c",
   "metadata": {},
   "outputs": [],
   "source": [
    "X = scientist_sal.drop('salary', axis=1)\n",
    "y = scientist_sal['salary']"
   ]
  },
  {
   "cell_type": "code",
   "execution_count": 12,
   "id": "5382c868-b934-4151-8c9a-c2258eb17ecd",
   "metadata": {},
   "outputs": [],
   "source": [
    "#split test train, test=0.2\n",
    "X_train, X_test, y_train, y_test = train_test_split(X,y, test_size=0.2, random_state=0)"
   ]
  },
  {
   "cell_type": "code",
   "execution_count": 13,
   "id": "9877274c-976f-4f2e-addc-71960cdac432",
   "metadata": {},
   "outputs": [],
   "source": [
    "\n",
    "#classifiers\n",
    "clf1 = DecisionTreeClassifier()\n",
    "clf2 = RandomForestClassifier(n_estimators=100)\n",
    "clf3 = ExtraTreesClassifier(n_estimators=100)\n",
    "clf4 = AdaBoostClassifier(n_estimators=100)\n",
    "clf5 = GradientBoostingClassifier(n_estimators=100)"
   ]
  },
  {
   "cell_type": "code",
   "execution_count": 14,
   "id": "5f50351c-6fe4-4dd9-9d47-8ae07c2d253c",
   "metadata": {},
   "outputs": [],
   "source": [
    "\n",
    "#pipelines\n",
    "pipe1 = Pipeline([('clf', clf1)])\n",
    "pipe2 = Pipeline([('clf', clf2)])\n",
    "pipe3 = Pipeline([('clf', clf3)])\n",
    "pipe4 = Pipeline([('clf', clf4)])\n",
    "pipe5 = Pipeline([('clf', clf5)])"
   ]
  },
  {
   "cell_type": "code",
   "execution_count": 15,
   "id": "483c8eba-fdce-4b98-9035-e63de4a6e6f6",
   "metadata": {},
   "outputs": [],
   "source": [
    "#params\n",
    "param1 = {'max_depth': [3, 5, 10, None], 'min_samples_split': [2, 5, 10]}\n",
    "param2 = {'n_estimators': [50, 100, 150], 'max_depth': [5, 10, None]}\n",
    "param3 = {'n_estimators': [50, 100, 150], 'max_depth': [5, 10, None]}\n",
    "param4 =  {'n_estimators': [50, 100, 150], 'learning_rate': [0.5, 1.0, 1.5]}\n",
    "param5 = {'n_estimators': [50, 100, 150], 'learning_rate': [0.05, 0.1, 0.2], 'max_depth': [3, 5, 7]}"
   ]
  },
  {
   "cell_type": "code",
   "execution_count": 16,
   "id": "d52ae5ce-e9c4-46a6-a8f3-d88bba0a6daa",
   "metadata": {},
   "outputs": [
    {
     "name": "stdout",
     "output_type": "stream",
     "text": [
      "DecisionTree Accuracy: 0.3668265589497602\n",
      "Confusion Matrix for DecisionTree:\n",
      "[[353  46  19   3 147  70]\n",
      " [ 32 300 251  33  81 189]\n",
      " [ 29 264 305 129  36 114]\n",
      " [  3  39 105 139   3  17]\n",
      " [139  64  35   4 171 130]\n",
      " [ 60 190 107  16 153 185]]\n",
      "--------------------------------------------------\n",
      "RandomForest Accuracy: 0.4034334763948498\n",
      "Confusion Matrix for RandomForest:\n",
      "[[450  30  11   0 101  46]\n",
      " [ 36 348 270   7  48 177]\n",
      " [ 20 327 319 115  17  79]\n",
      " [  4  16 123 157   1   5]\n",
      " [169  52  21   0 168 133]\n",
      " [ 63 252  82   7 151 156]]\n",
      "--------------------------------------------------\n",
      "ExtraTrees Accuracy: 0.37919717243120427\n",
      "Confusion Matrix for ExtraTrees:\n",
      "[[431  29  15   0 114  49]\n",
      " [ 36 321 269   8  42 210]\n",
      " [ 18 335 287 138  15  84]\n",
      " [  5  15 125 154   2   5]\n",
      " [168  54  24   2 167 128]\n",
      " [ 61 267  85   7 149 142]]\n",
      "--------------------------------------------------\n",
      "AdaBoost Accuracy: 0.4067154758899268\n",
      "Confusion Matrix for AdaBoost:\n",
      "[[493  24  12   1  55  53]\n",
      " [ 36 322 277  25  55 171]\n",
      " [ 19 267 438  38  24  91]\n",
      " [  3  37 225  27   2  12]\n",
      " [180  67  21   0 134 141]\n",
      " [ 89 183 108   6 128 197]]\n",
      "--------------------------------------------------\n",
      "GradientBoosting Accuracy: 0.47740469578389294\n",
      "Confusion Matrix for GradientBoosting:\n",
      "[[493  29  11   1  74  30]\n",
      " [ 37 449 239  14  50  97]\n",
      " [ 24 262 462  60  24  45]\n",
      " [  7  24 120 149   1   5]\n",
      " [169  79  22   1 150 122]\n",
      " [ 68 245  74  11 125 188]]\n",
      "--------------------------------------------------\n"
     ]
    }
   ],
   "source": [
    "#training each classifier\n",
    "classifiers = [clf1, clf2, clf3, clf4, clf5]\n",
    "names = ['DecisionTree', 'RandomForest', 'ExtraTrees', 'AdaBoost', 'GradientBoosting']\n",
    "for clf, name in zip(classifiers,names):\n",
    "    clf.fit(X_train, y_train)\n",
    "    y_pred = clf.predict(X_test)\n",
    "\n",
    "    # printing accuracy and confusion matrix\n",
    "    acc = accuracy_score(y_test, y_pred)\n",
    "    print(f\"{name} Accuracy: {acc}\")\n",
    "    print(f\"Confusion Matrix for {name}:\\n{confusion_matrix(y_test, y_pred)}\")\n",
    "    print(\"-\" * 50)"
   ]
  },
  {
   "cell_type": "code",
   "execution_count": 17,
   "id": "63c39227-3035-4def-a302-2dd35705d7c6",
   "metadata": {},
   "outputs": [],
   "source": [
    "\n",
    "# we can say that gradient boosting is performing better than all other classifiers"
   ]
  },
  {
   "cell_type": "code",
   "execution_count": null,
   "id": "0409c89f-80c1-45b5-aa42-ac0e6284f6a9",
   "metadata": {},
   "outputs": [],
   "source": []
  }
 ],
 "metadata": {
  "kernelspec": {
   "display_name": "Python 3 (ipykernel)",
   "language": "python",
   "name": "python3"
  },
  "language_info": {
   "codemirror_mode": {
    "name": "ipython",
    "version": 3
   },
   "file_extension": ".py",
   "mimetype": "text/x-python",
   "name": "python",
   "nbconvert_exporter": "python",
   "pygments_lexer": "ipython3",
   "version": "3.12.8"
  }
 },
 "nbformat": 4,
 "nbformat_minor": 5
}
